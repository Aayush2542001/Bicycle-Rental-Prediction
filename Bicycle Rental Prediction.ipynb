{
 "cells": [
  {
   "cell_type": "code",
   "execution_count": 1,
   "id": "ae91d23a",
   "metadata": {
    "_cell_guid": "b1076dfc-b9ad-4769-8c92-a6c4dae69d19",
    "_uuid": "8f2839f25d086af736a60e9eeb907d3b93b6e0e5",
    "execution": {
     "iopub.execute_input": "2022-01-30T12:05:46.830202Z",
     "iopub.status.busy": "2022-01-30T12:05:46.829098Z",
     "iopub.status.idle": "2022-01-30T12:05:48.247870Z",
     "shell.execute_reply": "2022-01-30T12:05:48.246354Z",
     "shell.execute_reply.started": "2022-01-30T12:04:54.965008Z"
    },
    "papermill": {
     "duration": 1.441364,
     "end_time": "2022-01-30T12:05:48.248124",
     "exception": false,
     "start_time": "2022-01-30T12:05:46.806760",
     "status": "completed"
    },
    "tags": []
   },
   "outputs": [
    {
     "name": "stdout",
     "output_type": "stream",
     "text": [
      "/kaggle/input/bike-sharing-demand/sampleSubmission.csv\n",
      "/kaggle/input/bike-sharing-demand/train.csv\n",
      "/kaggle/input/bike-sharing-demand/test.csv\n"
     ]
    }
   ],
   "source": [
    "import os\n",
    "import numpy as np\n",
    "import pandas as pd\n",
    "import seaborn as sns\n",
    "import matplotlib.pyplot as plt\n",
    "\n",
    "import sklearn\n",
    "from sklearn.model_selection import train_test_split\n",
    "from sklearn.ensemble import RandomForestRegressor\n",
    "from sklearn.metrics import mean_absolute_error\n",
    "\n",
    "pd.set_option(\"display.max_rows\", None, \"display.max_columns\", None)\n",
    "np.set_printoptions(suppress=True)\n",
    "\n",
    "for dirname, _, filenames in os.walk('/kaggle/input'):\n",
    "    for filename in filenames:\n",
    "        print(os.path.join(dirname, filename))"
   ]
  },
  {
   "cell_type": "markdown",
   "id": "470883f4",
   "metadata": {
    "papermill": {
     "duration": 0.018346,
     "end_time": "2022-01-30T12:05:48.287454",
     "exception": false,
     "start_time": "2022-01-30T12:05:48.269108",
     "status": "completed"
    },
    "tags": []
   },
   "source": [
    "# Loading data"
   ]
  },
  {
   "cell_type": "code",
   "execution_count": 2,
   "id": "86b241a2",
   "metadata": {
    "execution": {
     "iopub.execute_input": "2022-01-30T12:05:48.327982Z",
     "iopub.status.busy": "2022-01-30T12:05:48.327026Z",
     "iopub.status.idle": "2022-01-30T12:05:48.394491Z",
     "shell.execute_reply": "2022-01-30T12:05:48.393920Z",
     "shell.execute_reply.started": "2022-01-30T12:04:56.524690Z"
    },
    "papermill": {
     "duration": 0.089119,
     "end_time": "2022-01-30T12:05:48.394624",
     "exception": false,
     "start_time": "2022-01-30T12:05:48.305505",
     "status": "completed"
    },
    "tags": []
   },
   "outputs": [],
   "source": [
    "train = pd.read_csv('/kaggle/input/bike-sharing-demand/train.csv')\n",
    "test = pd.read_csv('/kaggle/input/bike-sharing-demand/test.csv')"
   ]
  },
  {
   "cell_type": "code",
   "execution_count": 3,
   "id": "7a7710d1",
   "metadata": {
    "execution": {
     "iopub.execute_input": "2022-01-30T12:05:48.439194Z",
     "iopub.status.busy": "2022-01-30T12:05:48.433861Z",
     "iopub.status.idle": "2022-01-30T12:05:48.455376Z",
     "shell.execute_reply": "2022-01-30T12:05:48.455846Z",
     "shell.execute_reply.started": "2022-01-30T12:04:56.611030Z"
    },
    "papermill": {
     "duration": 0.04307,
     "end_time": "2022-01-30T12:05:48.456022",
     "exception": false,
     "start_time": "2022-01-30T12:05:48.412952",
     "status": "completed"
    },
    "tags": []
   },
   "outputs": [
    {
     "data": {
      "text/html": [
       "<div>\n",
       "<style scoped>\n",
       "    .dataframe tbody tr th:only-of-type {\n",
       "        vertical-align: middle;\n",
       "    }\n",
       "\n",
       "    .dataframe tbody tr th {\n",
       "        vertical-align: top;\n",
       "    }\n",
       "\n",
       "    .dataframe thead th {\n",
       "        text-align: right;\n",
       "    }\n",
       "</style>\n",
       "<table border=\"1\" class=\"dataframe\">\n",
       "  <thead>\n",
       "    <tr style=\"text-align: right;\">\n",
       "      <th></th>\n",
       "      <th>datetime</th>\n",
       "      <th>season</th>\n",
       "      <th>holiday</th>\n",
       "      <th>workingday</th>\n",
       "      <th>weather</th>\n",
       "      <th>temp</th>\n",
       "      <th>atemp</th>\n",
       "      <th>humidity</th>\n",
       "      <th>windspeed</th>\n",
       "      <th>casual</th>\n",
       "      <th>registered</th>\n",
       "      <th>count</th>\n",
       "    </tr>\n",
       "  </thead>\n",
       "  <tbody>\n",
       "    <tr>\n",
       "      <th>0</th>\n",
       "      <td>2011-01-01 00:00:00</td>\n",
       "      <td>1</td>\n",
       "      <td>0</td>\n",
       "      <td>0</td>\n",
       "      <td>1</td>\n",
       "      <td>9.84</td>\n",
       "      <td>14.395</td>\n",
       "      <td>81</td>\n",
       "      <td>0.0</td>\n",
       "      <td>3</td>\n",
       "      <td>13</td>\n",
       "      <td>16</td>\n",
       "    </tr>\n",
       "    <tr>\n",
       "      <th>1</th>\n",
       "      <td>2011-01-01 01:00:00</td>\n",
       "      <td>1</td>\n",
       "      <td>0</td>\n",
       "      <td>0</td>\n",
       "      <td>1</td>\n",
       "      <td>9.02</td>\n",
       "      <td>13.635</td>\n",
       "      <td>80</td>\n",
       "      <td>0.0</td>\n",
       "      <td>8</td>\n",
       "      <td>32</td>\n",
       "      <td>40</td>\n",
       "    </tr>\n",
       "    <tr>\n",
       "      <th>2</th>\n",
       "      <td>2011-01-01 02:00:00</td>\n",
       "      <td>1</td>\n",
       "      <td>0</td>\n",
       "      <td>0</td>\n",
       "      <td>1</td>\n",
       "      <td>9.02</td>\n",
       "      <td>13.635</td>\n",
       "      <td>80</td>\n",
       "      <td>0.0</td>\n",
       "      <td>5</td>\n",
       "      <td>27</td>\n",
       "      <td>32</td>\n",
       "    </tr>\n",
       "    <tr>\n",
       "      <th>3</th>\n",
       "      <td>2011-01-01 03:00:00</td>\n",
       "      <td>1</td>\n",
       "      <td>0</td>\n",
       "      <td>0</td>\n",
       "      <td>1</td>\n",
       "      <td>9.84</td>\n",
       "      <td>14.395</td>\n",
       "      <td>75</td>\n",
       "      <td>0.0</td>\n",
       "      <td>3</td>\n",
       "      <td>10</td>\n",
       "      <td>13</td>\n",
       "    </tr>\n",
       "    <tr>\n",
       "      <th>4</th>\n",
       "      <td>2011-01-01 04:00:00</td>\n",
       "      <td>1</td>\n",
       "      <td>0</td>\n",
       "      <td>0</td>\n",
       "      <td>1</td>\n",
       "      <td>9.84</td>\n",
       "      <td>14.395</td>\n",
       "      <td>75</td>\n",
       "      <td>0.0</td>\n",
       "      <td>0</td>\n",
       "      <td>1</td>\n",
       "      <td>1</td>\n",
       "    </tr>\n",
       "  </tbody>\n",
       "</table>\n",
       "</div>"
      ],
      "text/plain": [
       "              datetime  season  holiday  workingday  weather  temp   atemp  \\\n",
       "0  2011-01-01 00:00:00       1        0           0        1  9.84  14.395   \n",
       "1  2011-01-01 01:00:00       1        0           0        1  9.02  13.635   \n",
       "2  2011-01-01 02:00:00       1        0           0        1  9.02  13.635   \n",
       "3  2011-01-01 03:00:00       1        0           0        1  9.84  14.395   \n",
       "4  2011-01-01 04:00:00       1        0           0        1  9.84  14.395   \n",
       "\n",
       "   humidity  windspeed  casual  registered  count  \n",
       "0        81        0.0       3          13     16  \n",
       "1        80        0.0       8          32     40  \n",
       "2        80        0.0       5          27     32  \n",
       "3        75        0.0       3          10     13  \n",
       "4        75        0.0       0           1      1  "
      ]
     },
     "execution_count": 3,
     "metadata": {},
     "output_type": "execute_result"
    }
   ],
   "source": [
    "train.head()"
   ]
  },
  {
   "cell_type": "code",
   "execution_count": 4,
   "id": "b900470b",
   "metadata": {
    "execution": {
     "iopub.execute_input": "2022-01-30T12:05:48.497339Z",
     "iopub.status.busy": "2022-01-30T12:05:48.496655Z",
     "iopub.status.idle": "2022-01-30T12:05:48.501493Z",
     "shell.execute_reply": "2022-01-30T12:05:48.502017Z",
     "shell.execute_reply.started": "2022-01-30T12:04:56.637296Z"
    },
    "papermill": {
     "duration": 0.027033,
     "end_time": "2022-01-30T12:05:48.502178",
     "exception": false,
     "start_time": "2022-01-30T12:05:48.475145",
     "status": "completed"
    },
    "tags": []
   },
   "outputs": [],
   "source": [
    "def datetime_divider(dataframe):\n",
    "    if 'datetime' in dataframe.columns:\n",
    "        dataframe['year'] = pd.to_datetime(dataframe['datetime']).dt.year\n",
    "        dataframe['month'] = pd.to_datetime(dataframe['datetime']).dt.month\n",
    "        dataframe['day'] = pd.to_datetime(dataframe['datetime']).dt.day\n",
    "        dataframe['hour'] = pd.to_datetime(dataframe['datetime']).dt.hour\n",
    "        dataframe.drop('datetime', axis=1, inplace=True, errors='ignore')\n",
    "    else:\n",
    "        # already divide\n",
    "        return"
   ]
  },
  {
   "cell_type": "code",
   "execution_count": 5,
   "id": "d00c6e2f",
   "metadata": {
    "execution": {
     "iopub.execute_input": "2022-01-30T12:05:48.542425Z",
     "iopub.status.busy": "2022-01-30T12:05:48.541679Z",
     "iopub.status.idle": "2022-01-30T12:05:48.580567Z",
     "shell.execute_reply": "2022-01-30T12:05:48.581331Z",
     "shell.execute_reply.started": "2022-01-30T12:04:56.644386Z"
    },
    "papermill": {
     "duration": 0.060653,
     "end_time": "2022-01-30T12:05:48.581586",
     "exception": false,
     "start_time": "2022-01-30T12:05:48.520933",
     "status": "completed"
    },
    "tags": []
   },
   "outputs": [],
   "source": [
    "datetime_divider(train)"
   ]
  },
  {
   "cell_type": "markdown",
   "id": "bec9d535",
   "metadata": {
    "papermill": {
     "duration": 0.02221,
     "end_time": "2022-01-30T12:05:48.632341",
     "exception": false,
     "start_time": "2022-01-30T12:05:48.610131",
     "status": "completed"
    },
    "tags": []
   },
   "source": [
    "# Correlation"
   ]
  },
  {
   "cell_type": "code",
   "execution_count": 6,
   "id": "75a06cd4",
   "metadata": {
    "execution": {
     "iopub.execute_input": "2022-01-30T12:05:48.677287Z",
     "iopub.status.busy": "2022-01-30T12:05:48.676347Z",
     "iopub.status.idle": "2022-01-30T12:05:50.054495Z",
     "shell.execute_reply": "2022-01-30T12:05:50.054970Z",
     "shell.execute_reply.started": "2022-01-30T12:04:56.697332Z"
    },
    "papermill": {
     "duration": 1.400275,
     "end_time": "2022-01-30T12:05:50.055136",
     "exception": false,
     "start_time": "2022-01-30T12:05:48.654861",
     "status": "completed"
    },
    "tags": []
   },
   "outputs": [
    {
     "data": {
      "text/plain": [
       "<AxesSubplot:>"
      ]
     },
     "execution_count": 6,
     "metadata": {},
     "output_type": "execute_result"
    },
    {
     "data": {
      "image/png": "[encoded data removed]",
      "text/plain": [
       "<Figure size 1080x1080 with 2 Axes>"
      ]
     },
     "metadata": {
      "needs_background": "light"
     },
     "output_type": "display_data"
    }
   ],
   "source": [
    "corr = train.corr(method='spearman')\n",
    "\n",
    "fig, ax = plt.subplots(figsize=(15,15))\n",
    "sns.heatmap(corr, xticklabels=corr.columns, yticklabels=corr.columns, annot=True, ax=ax)"
   ]
  },
  {
   "cell_type": "markdown",
   "id": "bc78a38e",
   "metadata": {
    "papermill": {
     "duration": 0.023414,
     "end_time": "2022-01-30T12:05:50.101038",
     "exception": false,
     "start_time": "2022-01-30T12:05:50.077624",
     "status": "completed"
    },
    "tags": []
   },
   "source": [
    "# Temperature effect on `count`"
   ]
  },
  {
   "cell_type": "code",
   "execution_count": 7,
   "id": "f685c2fc",
   "metadata": {
    "execution": {
     "iopub.execute_input": "2022-01-30T12:05:50.151112Z",
     "iopub.status.busy": "2022-01-30T12:05:50.150191Z",
     "iopub.status.idle": "2022-01-30T12:07:23.639611Z",
     "shell.execute_reply": "2022-01-30T12:07:23.640108Z",
     "shell.execute_reply.started": "2022-01-30T12:04:58.278323Z"
    },
    "papermill": {
     "duration": 93.515578,
     "end_time": "2022-01-30T12:07:23.640285",
     "exception": false,
     "start_time": "2022-01-30T12:05:50.124707",
     "status": "completed"
    },
    "tags": []
   },
   "outputs": [
    {
     "data": {
      "text/plain": [
       "Text(0.5, 1.0, 'Windspeed')"
      ]
     },
     "execution_count": 7,
     "metadata": {},
     "output_type": "execute_result"
    },
    {
     "data": {
      "image/png": "[encoded data removed]",
      "text/plain": [
       "<Figure size 720x720 with 6 Axes>"
      ]
     },
     "metadata": {
      "needs_background": "light"
     },
     "output_type": "display_data"
    }
   ],
   "source": [
    "fig, axs = plt.subplots(3, 2,figsize=(10,10))\n",
    "y = train['count']\n",
    "\n",
    "x = train['temp'].round()\n",
    "axs[0, 0].bar(x, y)\n",
    "axs[0, 0].set_title('temp')\n",
    "\n",
    "x = train['atemp'].round()\n",
    "axs[0, 1].bar(x, y)\n",
    "axs[0, 1].set_title('atemp')\n",
    "\n",
    "x = train['weather']\n",
    "axs[1, 0].bar(x, y)\n",
    "axs[1, 0].set_title('weather')\n",
    "\n",
    "x = train['humidity'].round()\n",
    "axs[1, 1].bar(x, y)\n",
    "axs[1, 1].set_title('Humidity')\n",
    "\n",
    "x = train['windspeed'].round()\n",
    "axs[2, 0].bar(x, y)\n",
    "axs[2, 0].set_title('Windspeed')"
   ]
  },
  {
   "cell_type": "markdown",
   "id": "62f328a3",
   "metadata": {
    "papermill": {
     "duration": 0.024046,
     "end_time": "2022-01-30T12:07:23.691021",
     "exception": false,
     "start_time": "2022-01-30T12:07:23.666975",
     "status": "completed"
    },
    "tags": []
   },
   "source": [
    "# Time effect on `count`"
   ]
  },
  {
   "cell_type": "code",
   "execution_count": 8,
   "id": "0519c5ae",
   "metadata": {
    "execution": {
     "iopub.execute_input": "2022-01-30T12:07:23.756525Z",
     "iopub.status.busy": "2022-01-30T12:07:23.755897Z",
     "iopub.status.idle": "2022-01-30T12:08:03.583218Z",
     "shell.execute_reply": "2022-01-30T12:08:03.583767Z",
     "shell.execute_reply.started": "2022-01-30T12:04:59.723851Z"
    },
    "papermill": {
     "duration": 39.869084,
     "end_time": "2022-01-30T12:08:03.583947",
     "exception": false,
     "start_time": "2022-01-30T12:07:23.714863",
     "status": "completed"
    },
    "tags": []
   },
   "outputs": [
    {
     "data": {
      "text/plain": [
       "Text(0.5, 1.0, 'hour')"
      ]
     },
     "execution_count": 8,
     "metadata": {},
     "output_type": "execute_result"
    },
    {
     "data": {
      "image/png": "[encoded data removed]",
      "text/plain": [
       "<Figure size 360x360 with 2 Axes>"
      ]
     },
     "metadata": {
      "needs_background": "light"
     },
     "output_type": "display_data"
    }
   ],
   "source": [
    "fig, axs = plt.subplots(1,2,figsize=(5,5))\n",
    "y = train['count']\n",
    "\n",
    "x = train['month']\n",
    "axs[0].bar(x, y)\n",
    "axs[0].set_title('month')\n",
    "\n",
    "x = train['hour']\n",
    "axs[1].bar(x, y)\n",
    "axs[1].set_title('hour')"
   ]
  },
  {
   "cell_type": "markdown",
   "id": "f4011e6f",
   "metadata": {
    "papermill": {
     "duration": 0.024472,
     "end_time": "2022-01-30T12:08:03.633180",
     "exception": false,
     "start_time": "2022-01-30T12:08:03.608708",
     "status": "completed"
    },
    "tags": []
   },
   "source": [
    "# Holiday decreases bicycle's want"
   ]
  },
  {
   "cell_type": "code",
   "execution_count": 9,
   "id": "ea03e3ce",
   "metadata": {
    "execution": {
     "iopub.execute_input": "2022-01-30T12:08:03.695647Z",
     "iopub.status.busy": "2022-01-30T12:08:03.690941Z",
     "iopub.status.idle": "2022-01-30T12:08:03.699227Z",
     "shell.execute_reply": "2022-01-30T12:08:03.698712Z",
     "shell.execute_reply.started": "2022-01-30T12:04:59.725890Z"
    },
    "papermill": {
     "duration": 0.041404,
     "end_time": "2022-01-30T12:08:03.699376",
     "exception": false,
     "start_time": "2022-01-30T12:08:03.657972",
     "status": "completed"
    },
    "tags": []
   },
   "outputs": [
    {
     "data": {
      "text/html": [
       "<div>\n",
       "<style scoped>\n",
       "    .dataframe tbody tr th:only-of-type {\n",
       "        vertical-align: middle;\n",
       "    }\n",
       "\n",
       "    .dataframe tbody tr th {\n",
       "        vertical-align: top;\n",
       "    }\n",
       "\n",
       "    .dataframe thead th {\n",
       "        text-align: right;\n",
       "    }\n",
       "</style>\n",
       "<table border=\"1\" class=\"dataframe\">\n",
       "  <thead>\n",
       "    <tr style=\"text-align: right;\">\n",
       "      <th></th>\n",
       "      <th>count</th>\n",
       "    </tr>\n",
       "    <tr>\n",
       "      <th>holiday</th>\n",
       "      <th></th>\n",
       "    </tr>\n",
       "  </thead>\n",
       "  <tbody>\n",
       "    <tr>\n",
       "      <th>0</th>\n",
       "      <td>2027668</td>\n",
       "    </tr>\n",
       "    <tr>\n",
       "      <th>1</th>\n",
       "      <td>57808</td>\n",
       "    </tr>\n",
       "  </tbody>\n",
       "</table>\n",
       "</div>"
      ],
      "text/plain": [
       "           count\n",
       "holiday         \n",
       "0        2027668\n",
       "1          57808"
      ]
     },
     "execution_count": 9,
     "metadata": {},
     "output_type": "execute_result"
    }
   ],
   "source": [
    "train.groupby(['holiday',]).agg({'count':'sum'})"
   ]
  },
  {
   "cell_type": "markdown",
   "id": "c9f21940",
   "metadata": {
    "papermill": {
     "duration": 0.024758,
     "end_time": "2022-01-30T12:08:03.749855",
     "exception": false,
     "start_time": "2022-01-30T12:08:03.725097",
     "status": "completed"
    },
    "tags": []
   },
   "source": [
    "# WorkingDay increases bicycle's want"
   ]
  },
  {
   "cell_type": "code",
   "execution_count": 10,
   "id": "9b504ddd",
   "metadata": {
    "execution": {
     "iopub.execute_input": "2022-01-30T12:08:03.805248Z",
     "iopub.status.busy": "2022-01-30T12:08:03.804368Z",
     "iopub.status.idle": "2022-01-30T12:08:03.813995Z",
     "shell.execute_reply": "2022-01-30T12:08:03.814399Z",
     "shell.execute_reply.started": "2022-01-30T12:04:59.728614Z"
    },
    "papermill": {
     "duration": 0.038555,
     "end_time": "2022-01-30T12:08:03.814562",
     "exception": false,
     "start_time": "2022-01-30T12:08:03.776007",
     "status": "completed"
    },
    "tags": []
   },
   "outputs": [
    {
     "data": {
      "text/html": [
       "<div>\n",
       "<style scoped>\n",
       "    .dataframe tbody tr th:only-of-type {\n",
       "        vertical-align: middle;\n",
       "    }\n",
       "\n",
       "    .dataframe tbody tr th {\n",
       "        vertical-align: top;\n",
       "    }\n",
       "\n",
       "    .dataframe thead th {\n",
       "        text-align: right;\n",
       "    }\n",
       "</style>\n",
       "<table border=\"1\" class=\"dataframe\">\n",
       "  <thead>\n",
       "    <tr style=\"text-align: right;\">\n",
       "      <th></th>\n",
       "      <th>count</th>\n",
       "    </tr>\n",
       "    <tr>\n",
       "      <th>workingday</th>\n",
       "      <th></th>\n",
       "    </tr>\n",
       "  </thead>\n",
       "  <tbody>\n",
       "    <tr>\n",
       "      <th>0</th>\n",
       "      <td>654872</td>\n",
       "    </tr>\n",
       "    <tr>\n",
       "      <th>1</th>\n",
       "      <td>1430604</td>\n",
       "    </tr>\n",
       "  </tbody>\n",
       "</table>\n",
       "</div>"
      ],
      "text/plain": [
       "              count\n",
       "workingday         \n",
       "0            654872\n",
       "1           1430604"
      ]
     },
     "execution_count": 10,
     "metadata": {},
     "output_type": "execute_result"
    }
   ],
   "source": [
    "train.groupby(['workingday',]).agg({'count':'sum'})"
   ]
  },
  {
   "cell_type": "markdown",
   "id": "e096aa8b",
   "metadata": {
    "papermill": {
     "duration": 0.025103,
     "end_time": "2022-01-30T12:08:03.865190",
     "exception": false,
     "start_time": "2022-01-30T12:08:03.840087",
     "status": "completed"
    },
    "tags": []
   },
   "source": [
    "# Dropping unnecessary columns\n",
    "*`atemp` is calculated from `temp` `windspeed` and `weather`*\n",
    "\n",
    "*`month` already contains information of `season`*\n",
    "\n",
    "*`count` already contains information of `casual` and `registered`*"
   ]
  },
  {
   "cell_type": "code",
   "execution_count": 11,
   "id": "f50fdd3c",
   "metadata": {
    "execution": {
     "iopub.execute_input": "2022-01-30T12:08:03.922452Z",
     "iopub.status.busy": "2022-01-30T12:08:03.921830Z",
     "iopub.status.idle": "2022-01-30T12:08:03.924228Z",
     "shell.execute_reply": "2022-01-30T12:08:03.924617Z",
     "shell.execute_reply.started": "2022-01-30T12:04:59.730335Z"
    },
    "papermill": {
     "duration": 0.034256,
     "end_time": "2022-01-30T12:08:03.924821",
     "exception": false,
     "start_time": "2022-01-30T12:08:03.890565",
     "status": "completed"
    },
    "tags": []
   },
   "outputs": [],
   "source": [
    "train.drop(['atemp','season','casual','registered'], axis=1, inplace=True)"
   ]
  },
  {
   "cell_type": "markdown",
   "id": "5df5538c",
   "metadata": {
    "papermill": {
     "duration": 0.025082,
     "end_time": "2022-01-30T12:08:03.975568",
     "exception": false,
     "start_time": "2022-01-30T12:08:03.950486",
     "status": "completed"
    },
    "tags": []
   },
   "source": [
    "# Dividing target variables"
   ]
  },
  {
   "cell_type": "code",
   "execution_count": 12,
   "id": "6b7b9d94",
   "metadata": {
    "execution": {
     "iopub.execute_input": "2022-01-30T12:08:04.031202Z",
     "iopub.status.busy": "2022-01-30T12:08:04.030475Z",
     "iopub.status.idle": "2022-01-30T12:08:04.035552Z",
     "shell.execute_reply": "2022-01-30T12:08:04.036008Z",
     "shell.execute_reply.started": "2022-01-30T12:04:59.732043Z"
    },
    "papermill": {
     "duration": 0.034272,
     "end_time": "2022-01-30T12:08:04.036176",
     "exception": false,
     "start_time": "2022-01-30T12:08:04.001904",
     "status": "completed"
    },
    "tags": []
   },
   "outputs": [],
   "source": [
    "target = train[['count']].copy()\n",
    "train.drop(['count'], axis=1, inplace=True)"
   ]
  },
  {
   "cell_type": "markdown",
   "id": "86f0ae8d",
   "metadata": {
    "papermill": {
     "duration": 0.025768,
     "end_time": "2022-01-30T12:08:04.088607",
     "exception": false,
     "start_time": "2022-01-30T12:08:04.062839",
     "status": "completed"
    },
    "tags": []
   },
   "source": [
    "# Dataframe to Numpy"
   ]
  },
  {
   "cell_type": "code",
   "execution_count": 13,
   "id": "32964176",
   "metadata": {
    "execution": {
     "iopub.execute_input": "2022-01-30T12:08:04.145784Z",
     "iopub.status.busy": "2022-01-30T12:08:04.144690Z",
     "iopub.status.idle": "2022-01-30T12:08:04.148650Z",
     "shell.execute_reply": "2022-01-30T12:08:04.149265Z",
     "shell.execute_reply.started": "2022-01-30T12:04:59.733483Z"
    },
    "papermill": {
     "duration": 0.034579,
     "end_time": "2022-01-30T12:08:04.149451",
     "exception": false,
     "start_time": "2022-01-30T12:08:04.114872",
     "status": "completed"
    },
    "tags": []
   },
   "outputs": [],
   "source": [
    "X = train.to_numpy()\n",
    "Y = target.to_numpy()"
   ]
  },
  {
   "cell_type": "markdown",
   "id": "f3ef90a8",
   "metadata": {
    "papermill": {
     "duration": 0.025312,
     "end_time": "2022-01-30T12:08:04.200422",
     "exception": false,
     "start_time": "2022-01-30T12:08:04.175110",
     "status": "completed"
    },
    "tags": []
   },
   "source": [
    "# Shape of X and Y"
   ]
  },
  {
   "cell_type": "code",
   "execution_count": 14,
   "id": "5bed6a18",
   "metadata": {
    "execution": {
     "iopub.execute_input": "2022-01-30T12:08:04.257126Z",
     "iopub.status.busy": "2022-01-30T12:08:04.254311Z",
     "iopub.status.idle": "2022-01-30T12:08:04.267262Z",
     "shell.execute_reply": "2022-01-30T12:08:04.267663Z",
     "shell.execute_reply.started": "2022-01-30T12:04:59.735106Z"
    },
    "papermill": {
     "duration": 0.04141,
     "end_time": "2022-01-30T12:08:04.267842",
     "exception": false,
     "start_time": "2022-01-30T12:08:04.226432",
     "status": "completed"
    },
    "tags": []
   },
   "outputs": [
    {
     "data": {
      "text/html": [
       "<div>\n",
       "<style scoped>\n",
       "    .dataframe tbody tr th:only-of-type {\n",
       "        vertical-align: middle;\n",
       "    }\n",
       "\n",
       "    .dataframe tbody tr th {\n",
       "        vertical-align: top;\n",
       "    }\n",
       "\n",
       "    .dataframe thead th {\n",
       "        text-align: right;\n",
       "    }\n",
       "</style>\n",
       "<table border=\"1\" class=\"dataframe\">\n",
       "  <thead>\n",
       "    <tr style=\"text-align: right;\">\n",
       "      <th></th>\n",
       "      <th>holiday</th>\n",
       "      <th>workingday</th>\n",
       "      <th>weather</th>\n",
       "      <th>temp</th>\n",
       "      <th>humidity</th>\n",
       "      <th>windspeed</th>\n",
       "      <th>year</th>\n",
       "      <th>month</th>\n",
       "      <th>day</th>\n",
       "      <th>hour</th>\n",
       "    </tr>\n",
       "  </thead>\n",
       "  <tbody>\n",
       "    <tr>\n",
       "      <th>0</th>\n",
       "      <td>0</td>\n",
       "      <td>0</td>\n",
       "      <td>1</td>\n",
       "      <td>9.84</td>\n",
       "      <td>81</td>\n",
       "      <td>0.0</td>\n",
       "      <td>2011</td>\n",
       "      <td>1</td>\n",
       "      <td>1</td>\n",
       "      <td>0</td>\n",
       "    </tr>\n",
       "    <tr>\n",
       "      <th>1</th>\n",
       "      <td>0</td>\n",
       "      <td>0</td>\n",
       "      <td>1</td>\n",
       "      <td>9.02</td>\n",
       "      <td>80</td>\n",
       "      <td>0.0</td>\n",
       "      <td>2011</td>\n",
       "      <td>1</td>\n",
       "      <td>1</td>\n",
       "      <td>1</td>\n",
       "    </tr>\n",
       "    <tr>\n",
       "      <th>2</th>\n",
       "      <td>0</td>\n",
       "      <td>0</td>\n",
       "      <td>1</td>\n",
       "      <td>9.02</td>\n",
       "      <td>80</td>\n",
       "      <td>0.0</td>\n",
       "      <td>2011</td>\n",
       "      <td>1</td>\n",
       "      <td>1</td>\n",
       "      <td>2</td>\n",
       "    </tr>\n",
       "    <tr>\n",
       "      <th>3</th>\n",
       "      <td>0</td>\n",
       "      <td>0</td>\n",
       "      <td>1</td>\n",
       "      <td>9.84</td>\n",
       "      <td>75</td>\n",
       "      <td>0.0</td>\n",
       "      <td>2011</td>\n",
       "      <td>1</td>\n",
       "      <td>1</td>\n",
       "      <td>3</td>\n",
       "    </tr>\n",
       "    <tr>\n",
       "      <th>4</th>\n",
       "      <td>0</td>\n",
       "      <td>0</td>\n",
       "      <td>1</td>\n",
       "      <td>9.84</td>\n",
       "      <td>75</td>\n",
       "      <td>0.0</td>\n",
       "      <td>2011</td>\n",
       "      <td>1</td>\n",
       "      <td>1</td>\n",
       "      <td>4</td>\n",
       "    </tr>\n",
       "  </tbody>\n",
       "</table>\n",
       "</div>"
      ],
      "text/plain": [
       "   holiday  workingday  weather  temp  humidity  windspeed  year  month  day  \\\n",
       "0        0           0        1  9.84        81        0.0  2011      1    1   \n",
       "1        0           0        1  9.02        80        0.0  2011      1    1   \n",
       "2        0           0        1  9.02        80        0.0  2011      1    1   \n",
       "3        0           0        1  9.84        75        0.0  2011      1    1   \n",
       "4        0           0        1  9.84        75        0.0  2011      1    1   \n",
       "\n",
       "   hour  \n",
       "0     0  \n",
       "1     1  \n",
       "2     2  \n",
       "3     3  \n",
       "4     4  "
      ]
     },
     "execution_count": 14,
     "metadata": {},
     "output_type": "execute_result"
    }
   ],
   "source": [
    "train.head()"
   ]
  },
  {
   "cell_type": "code",
   "execution_count": 15,
   "id": "fd937522",
   "metadata": {
    "execution": {
     "iopub.execute_input": "2022-01-30T12:08:04.324671Z",
     "iopub.status.busy": "2022-01-30T12:08:04.323945Z",
     "iopub.status.idle": "2022-01-30T12:08:04.326822Z",
     "shell.execute_reply": "2022-01-30T12:08:04.327304Z",
     "shell.execute_reply.started": "2022-01-30T12:04:59.737316Z"
    },
    "papermill": {
     "duration": 0.033819,
     "end_time": "2022-01-30T12:08:04.327463",
     "exception": false,
     "start_time": "2022-01-30T12:08:04.293644",
     "status": "completed"
    },
    "tags": []
   },
   "outputs": [
    {
     "data": {
      "text/plain": [
       "(10886, 10)"
      ]
     },
     "execution_count": 15,
     "metadata": {},
     "output_type": "execute_result"
    }
   ],
   "source": [
    "X.shape"
   ]
  },
  {
   "cell_type": "code",
   "execution_count": 16,
   "id": "f89bcbdd",
   "metadata": {
    "execution": {
     "iopub.execute_input": "2022-01-30T12:08:04.384360Z",
     "iopub.status.busy": "2022-01-30T12:08:04.382444Z",
     "iopub.status.idle": "2022-01-30T12:08:04.386553Z",
     "shell.execute_reply": "2022-01-30T12:08:04.387059Z",
     "shell.execute_reply.started": "2022-01-30T12:04:59.738687Z"
    },
    "papermill": {
     "duration": 0.033542,
     "end_time": "2022-01-30T12:08:04.387215",
     "exception": false,
     "start_time": "2022-01-30T12:08:04.353673",
     "status": "completed"
    },
    "tags": []
   },
   "outputs": [
    {
     "data": {
      "text/plain": [
       "(10886, 1)"
      ]
     },
     "execution_count": 16,
     "metadata": {},
     "output_type": "execute_result"
    }
   ],
   "source": [
    "Y.shape"
   ]
  },
  {
   "cell_type": "markdown",
   "id": "49732839",
   "metadata": {
    "papermill": {
     "duration": 0.026272,
     "end_time": "2022-01-30T12:08:04.439720",
     "exception": false,
     "start_time": "2022-01-30T12:08:04.413448",
     "status": "completed"
    },
    "tags": []
   },
   "source": [
    "# Splitting data"
   ]
  },
  {
   "cell_type": "code",
   "execution_count": 17,
   "id": "84ea5e56",
   "metadata": {
    "execution": {
     "iopub.execute_input": "2022-01-30T12:08:04.496008Z",
     "iopub.status.busy": "2022-01-30T12:08:04.495403Z",
     "iopub.status.idle": "2022-01-30T12:08:04.500785Z",
     "shell.execute_reply": "2022-01-30T12:08:04.501289Z",
     "shell.execute_reply.started": "2022-01-30T12:04:59.739895Z"
    },
    "papermill": {
     "duration": 0.035403,
     "end_time": "2022-01-30T12:08:04.501448",
     "exception": false,
     "start_time": "2022-01-30T12:08:04.466045",
     "status": "completed"
    },
    "tags": []
   },
   "outputs": [],
   "source": [
    "X_train, X_val, Y_train, Y_val = train_test_split(X, Y, test_size=0.2, random_state=6)"
   ]
  },
  {
   "cell_type": "markdown",
   "id": "bb2c919e",
   "metadata": {
    "papermill": {
     "duration": 0.026344,
     "end_time": "2022-01-30T12:08:04.554037",
     "exception": false,
     "start_time": "2022-01-30T12:08:04.527693",
     "status": "completed"
    },
    "tags": []
   },
   "source": [
    "# Model creation"
   ]
  },
  {
   "cell_type": "code",
   "execution_count": 18,
   "id": "1dc47c9e",
   "metadata": {
    "execution": {
     "iopub.execute_input": "2022-01-30T12:08:04.610306Z",
     "iopub.status.busy": "2022-01-30T12:08:04.609692Z",
     "iopub.status.idle": "2022-01-30T12:08:05.867749Z",
     "shell.execute_reply": "2022-01-30T12:08:05.868231Z",
     "shell.execute_reply.started": "2022-01-30T12:04:59.741525Z"
    },
    "papermill": {
     "duration": 1.287608,
     "end_time": "2022-01-30T12:08:05.868397",
     "exception": false,
     "start_time": "2022-01-30T12:08:04.580789",
     "status": "completed"
    },
    "tags": []
   },
   "outputs": [
    {
     "name": "stderr",
     "output_type": "stream",
     "text": [
      "/opt/conda/lib/python3.7/site-packages/ipykernel_launcher.py:2: DataConversionWarning: A column-vector y was passed when a 1d array was expected. Please change the shape of y to (n_samples,), for example using ravel().\n",
      "  \n",
      "[Parallel(n_jobs=-1)]: Using backend ThreadingBackend with 4 concurrent workers.\n",
      "[Parallel(n_jobs=-1)]: Done  42 tasks      | elapsed:    0.5s\n",
      "[Parallel(n_jobs=-1)]: Done 100 out of 100 | elapsed:    1.1s finished\n",
      "[Parallel(n_jobs=4)]: Using backend ThreadingBackend with 4 concurrent workers.\n",
      "[Parallel(n_jobs=4)]: Done  42 tasks      | elapsed:    0.0s\n",
      "[Parallel(n_jobs=4)]: Done 100 out of 100 | elapsed:    0.0s finished\n"
     ]
    },
    {
     "data": {
      "text/plain": [
       "27.733044077134984"
      ]
     },
     "execution_count": 18,
     "metadata": {},
     "output_type": "execute_result"
    }
   ],
   "source": [
    "RF = RandomForestRegressor(n_estimators = 100,random_state = 0, n_jobs=-1, verbose=1)\n",
    "RF.fit(X_train, Y_train)\n",
    "\n",
    "output = RF.predict(X_val)\n",
    "mean_absolute_error(Y_val, output)"
   ]
  },
  {
   "cell_type": "code",
   "execution_count": 19,
   "id": "9ad58666",
   "metadata": {
    "execution": {
     "iopub.execute_input": "2022-01-30T12:08:05.931287Z",
     "iopub.status.busy": "2022-01-30T12:08:05.930422Z",
     "iopub.status.idle": "2022-01-30T12:08:05.934211Z",
     "shell.execute_reply": "2022-01-30T12:08:05.933712Z",
     "shell.execute_reply.started": "2022-01-30T12:04:59.743120Z"
    },
    "papermill": {
     "duration": 0.037736,
     "end_time": "2022-01-30T12:08:05.934340",
     "exception": false,
     "start_time": "2022-01-30T12:08:05.896604",
     "status": "completed"
    },
    "tags": []
   },
   "outputs": [
    {
     "data": {
      "text/plain": [
       "array([144.69, 294.25, 221.71, 129.66, 585.77])"
      ]
     },
     "execution_count": 19,
     "metadata": {},
     "output_type": "execute_result"
    }
   ],
   "source": [
    "output[:5]"
   ]
  },
  {
   "cell_type": "markdown",
   "id": "b53646a8",
   "metadata": {
    "papermill": {
     "duration": 0.027678,
     "end_time": "2022-01-30T12:08:05.990108",
     "exception": false,
     "start_time": "2022-01-30T12:08:05.962430",
     "status": "completed"
    },
    "tags": []
   },
   "source": [
    "# 100% Data usage before prediction"
   ]
  },
  {
   "cell_type": "code",
   "execution_count": 20,
   "id": "3519d349",
   "metadata": {
    "execution": {
     "iopub.execute_input": "2022-01-30T12:08:06.048834Z",
     "iopub.status.busy": "2022-01-30T12:08:06.048183Z",
     "iopub.status.idle": "2022-01-30T12:08:07.501830Z",
     "shell.execute_reply": "2022-01-30T12:08:07.502243Z",
     "shell.execute_reply.started": "2022-01-30T12:04:59.745264Z"
    },
    "papermill": {
     "duration": 1.484704,
     "end_time": "2022-01-30T12:08:07.502416",
     "exception": false,
     "start_time": "2022-01-30T12:08:06.017712",
     "status": "completed"
    },
    "tags": []
   },
   "outputs": [
    {
     "name": "stderr",
     "output_type": "stream",
     "text": [
      "/opt/conda/lib/python3.7/site-packages/ipykernel_launcher.py:1: DataConversionWarning: A column-vector y was passed when a 1d array was expected. Please change the shape of y to (n_samples,), for example using ravel().\n",
      "  \"\"\"Entry point for launching an IPython kernel.\n",
      "[Parallel(n_jobs=-1)]: Using backend ThreadingBackend with 4 concurrent workers.\n",
      "[Parallel(n_jobs=-1)]: Done  42 tasks      | elapsed:    0.6s\n",
      "[Parallel(n_jobs=-1)]: Done 100 out of 100 | elapsed:    1.3s finished\n"
     ]
    },
    {
     "data": {
      "text/plain": [
       "RandomForestRegressor(n_jobs=-1, random_state=0, verbose=1)"
      ]
     },
     "execution_count": 20,
     "metadata": {},
     "output_type": "execute_result"
    }
   ],
   "source": [
    "RF.fit(X, Y)"
   ]
  },
  {
   "cell_type": "markdown",
   "id": "179ad3bc",
   "metadata": {
    "papermill": {
     "duration": 0.028276,
     "end_time": "2022-01-30T12:08:07.559597",
     "exception": false,
     "start_time": "2022-01-30T12:08:07.531321",
     "status": "completed"
    },
    "tags": []
   },
   "source": [
    "# Submission"
   ]
  },
  {
   "cell_type": "code",
   "execution_count": 21,
   "id": "f5ad7a81",
   "metadata": {
    "execution": {
     "iopub.execute_input": "2022-01-30T12:08:07.619870Z",
     "iopub.status.busy": "2022-01-30T12:08:07.618990Z",
     "iopub.status.idle": "2022-01-30T12:08:07.742275Z",
     "shell.execute_reply": "2022-01-30T12:08:07.741487Z",
     "shell.execute_reply.started": "2022-01-30T12:04:59.746849Z"
    },
    "papermill": {
     "duration": 0.154416,
     "end_time": "2022-01-30T12:08:07.742415",
     "exception": false,
     "start_time": "2022-01-30T12:08:07.587999",
     "status": "completed"
    },
    "tags": []
   },
   "outputs": [
    {
     "name": "stderr",
     "output_type": "stream",
     "text": [
      "[Parallel(n_jobs=4)]: Using backend ThreadingBackend with 4 concurrent workers.\n",
      "[Parallel(n_jobs=4)]: Done  42 tasks      | elapsed:    0.0s\n",
      "[Parallel(n_jobs=4)]: Done 100 out of 100 | elapsed:    0.1s finished\n"
     ]
    }
   ],
   "source": [
    "test_Id = test['datetime']\n",
    "datetime_divider(test)\n",
    "test.drop(['atemp','season'], axis=1, inplace=True)\n",
    "\n",
    "prediction = RF.predict(test)"
   ]
  },
  {
   "cell_type": "code",
   "execution_count": 22,
   "id": "d599f9a7",
   "metadata": {
    "execution": {
     "iopub.execute_input": "2022-01-30T12:08:07.807221Z",
     "iopub.status.busy": "2022-01-30T12:08:07.806526Z",
     "iopub.status.idle": "2022-01-30T12:08:07.823264Z",
     "shell.execute_reply": "2022-01-30T12:08:07.823721Z",
     "shell.execute_reply.started": "2022-01-30T12:04:59.748446Z"
    },
    "papermill": {
     "duration": 0.052435,
     "end_time": "2022-01-30T12:08:07.823937",
     "exception": false,
     "start_time": "2022-01-30T12:08:07.771502",
     "status": "completed"
    },
    "tags": []
   },
   "outputs": [],
   "source": [
    "output = pd.DataFrame({'datetime': test_Id, 'count': prediction})\n",
    "output.to_csv('submission.csv', index=False)"
   ]
  }
 ],
 "metadata": {
  "kernelspec": {
   "display_name": "Python 3",
   "language": "python",
   "name": "python3"
  },
  "language_info": {
   "codemirror_mode": {
    "name": "ipython",
    "version": 3
   },
   "file_extension": ".py",
   "mimetype": "text/x-python",
   "name": "python",
   "nbconvert_exporter": "python",
   "pygments_lexer": "ipython3",
   "version": "3.7.12"
  },
  "papermill": {
   "default_parameters": {},
   "duration": 152.286994,
   "end_time": "2022-01-30T12:08:10.462991",
   "environment_variables": {},
   "exception": null,
   "input_path": "__notebook__.ipynb",
   "output_path": "__notebook__.ipynb",
   "parameters": {},
   "start_time": "2022-01-30T12:05:38.175997",
   "version": "2.3.3"
  }
 },
 "nbformat": 4,
 "nbformat_minor": 5
}
